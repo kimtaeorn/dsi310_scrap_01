{
 "cells": [
  {
   "cell_type": "code",
   "execution_count": 49,
   "id": "b65bd6b3-14e7-426d-a3ea-50c5733a852a",
   "metadata": {},
   "outputs": [
    {
     "name": "stdout",
     "output_type": "stream",
     "text": [
      "huggingface/tokenizers: The current process just got forked, after parallelism has already been used. Disabling parallelism to avoid deadlocks...\n",
      "To disable this warning, you can either:\n",
      "\t- Avoid using `tokenizers` before the fork if possible\n",
      "\t- Explicitly set the environment variable TOKENIZERS_PARALLELISM=(true | false)\n",
      "Requirement already satisfied: transformers in /opt/conda/lib/python3.10/site-packages (4.23.1)\n",
      "Requirement already satisfied: torch in /opt/conda/lib/python3.10/site-packages (1.12.1)\n",
      "Requirement already satisfied: filelock in /opt/conda/lib/python3.10/site-packages (from transformers) (3.8.0)\n",
      "Requirement already satisfied: requests in /opt/conda/lib/python3.10/site-packages (from transformers) (2.28.1)\n",
      "Requirement already satisfied: numpy>=1.17 in /opt/conda/lib/python3.10/site-packages (from transformers) (1.22.4)\n",
      "Requirement already satisfied: regex!=2019.12.17 in /opt/conda/lib/python3.10/site-packages (from transformers) (2022.9.13)\n",
      "Requirement already satisfied: tokenizers!=0.11.3,<0.14,>=0.11.1 in /opt/conda/lib/python3.10/site-packages (from transformers) (0.13.1)\n",
      "Requirement already satisfied: huggingface-hub<1.0,>=0.10.0 in /opt/conda/lib/python3.10/site-packages (from transformers) (0.10.1)\n",
      "Requirement already satisfied: packaging>=20.0 in /opt/conda/lib/python3.10/site-packages (from transformers) (21.3)\n",
      "Requirement already satisfied: pyyaml>=5.1 in /opt/conda/lib/python3.10/site-packages (from transformers) (6.0)\n",
      "Requirement already satisfied: tqdm>=4.27 in /opt/conda/lib/python3.10/site-packages (from transformers) (4.64.0)\n",
      "Requirement already satisfied: typing-extensions in /opt/conda/lib/python3.10/site-packages (from torch) (4.3.0)\n",
      "Requirement already satisfied: pyparsing!=3.0.5,>=2.0.2 in /opt/conda/lib/python3.10/site-packages (from packaging>=20.0->transformers) (3.0.9)\n",
      "Requirement already satisfied: charset-normalizer<3,>=2 in /opt/conda/lib/python3.10/site-packages (from requests->transformers) (2.1.0)\n",
      "Requirement already satisfied: idna<4,>=2.5 in /opt/conda/lib/python3.10/site-packages (from requests->transformers) (3.3)\n",
      "Requirement already satisfied: certifi>=2017.4.17 in /opt/conda/lib/python3.10/site-packages (from requests->transformers) (2022.6.15)\n",
      "Requirement already satisfied: urllib3<1.27,>=1.21.1 in /opt/conda/lib/python3.10/site-packages (from requests->transformers) (1.26.11)\n",
      "huggingface/tokenizers: The current process just got forked, after parallelism has already been used. Disabling parallelism to avoid deadlocks...\n",
      "To disable this warning, you can either:\n",
      "\t- Avoid using `tokenizers` before the fork if possible\n",
      "\t- Explicitly set the environment variable TOKENIZERS_PARALLELISM=(true | false)\n",
      "Requirement already satisfied: sentencepiece in /opt/conda/lib/python3.10/site-packages (0.1.97)\n"
     ]
    }
   ],
   "source": [
    "# install extra library\n",
    "!pip install transformers torch\n",
    "!pip install sentencepiece"
   ]
  },
  {
   "cell_type": "code",
   "execution_count": 98,
   "id": "21ec936c-7733-4fde-8424-c0cf0a98743a",
   "metadata": {},
   "outputs": [],
   "source": [
    "from dsmlibrary.datanode import DataNode\n",
    "import json\n",
    "from tqdm.auto import tqdm\n",
    "import pandas as pd"
   ]
  },
  {
   "cell_type": "code",
   "execution_count": 99,
   "id": "6ff4bb7b-f514-4eb2-9fe4-4db103106817",
   "metadata": {},
   "outputs": [],
   "source": [
    "dir_raw_id = 90 #เลข โฟลเดอร์ของเราเลย\n",
    "dir_process_id = 91 #เลข โฟลเดอร์ของเราเลย"
   ]
  },
  {
   "cell_type": "code",
   "execution_count": 100,
   "id": "e62a95b8-e294-4b47-bfbb-3f5663b73fab",
   "metadata": {},
   "outputs": [
    {
     "name": "stdout",
     "output_type": "stream",
     "text": [
      "Init DataNode sucessful!\n"
     ]
    }
   ],
   "source": [
    "datanode = DataNode() #token ของเราหน้า ล็อคอิน"
   ]
  },
  {
   "cell_type": "code",
   "execution_count": 102,
   "id": "c872fe1e-0751-4d9e-b0d3-86db5787cec7",
   "metadata": {},
   "outputs": [],
   "source": [
    "#df['']"
   ]
  },
  {
   "cell_type": "code",
   "execution_count": 103,
   "id": "5d08bc1c-977b-439c-8bf1-22ace59ee235",
   "metadata": {},
   "outputs": [
    {
     "data": {
      "text/html": [
       "<div>\n",
       "<style scoped>\n",
       "    .dataframe tbody tr th:only-of-type {\n",
       "        vertical-align: middle;\n",
       "    }\n",
       "\n",
       "    .dataframe tbody tr th {\n",
       "        vertical-align: top;\n",
       "    }\n",
       "\n",
       "    .dataframe thead th {\n",
       "        text-align: right;\n",
       "    }\n",
       "</style>\n",
       "<table border=\"1\" class=\"dataframe\">\n",
       "  <thead>\n",
       "    <tr style=\"text-align: right;\">\n",
       "      <th></th>\n",
       "      <th>code</th>\n",
       "      <th>province</th>\n",
       "      <th>branch</th>\n",
       "      <th>address</th>\n",
       "      <th>tel</th>\n",
       "    </tr>\n",
       "  </thead>\n",
       "  <tbody>\n",
       "    <tr>\n",
       "      <th>0</th>\n",
       "      <td>790</td>\n",
       "      <td>12</td>\n",
       "      <td>SCวังตาผิน</td>\n",
       "      <td>เลขที่ 69/92 หมู่ที่ 4 ตำบลปลวกแดง อำเภอปลวกแด...</td>\n",
       "      <td>061-3847031</td>\n",
       "    </tr>\n",
       "    <tr>\n",
       "      <th>1</th>\n",
       "      <td>379</td>\n",
       "      <td>11</td>\n",
       "      <td>SP บ้านสวน</td>\n",
       "      <td>เลขที่ 99/376 หมู่ที่ 7 ตำบลบ้านสวน อำเภอเมือง...</td>\n",
       "      <td>064-7957735</td>\n",
       "    </tr>\n",
       "    <tr>\n",
       "      <th>2</th>\n",
       "      <td>675</td>\n",
       "      <td>1</td>\n",
       "      <td>The rich park พหลโยธิน 59</td>\n",
       "      <td>เลขที่ 251/2-6 ถนนพหลโยธิน แขวงอนุสาวรีย์  เขต...</td>\n",
       "      <td>095-8033410</td>\n",
       "    </tr>\n",
       "    <tr>\n",
       "      <th>3</th>\n",
       "      <td>309</td>\n",
       "      <td>12</td>\n",
       "      <td>กรอกยายชา</td>\n",
       "      <td>เลขที่ 18/8  ถนนกรอกยายชา ตำบลเนินพระ  อำเภอเม...</td>\n",
       "      <td>081-3784872</td>\n",
       "    </tr>\n",
       "    <tr>\n",
       "      <th>4</th>\n",
       "      <td>915</td>\n",
       "      <td>59</td>\n",
       "      <td>กระทุ่มเเบน</td>\n",
       "      <td>เลขที่ 1527/8 ถนนเศรษฐกิจ 1 ตำบลตลาดกระทุ่มแบน...</td>\n",
       "      <td>061-3860506</td>\n",
       "    </tr>\n",
       "    <tr>\n",
       "      <th>...</th>\n",
       "      <td>...</td>\n",
       "      <td>...</td>\n",
       "      <td>...</td>\n",
       "      <td>...</td>\n",
       "      <td>...</td>\n",
       "    </tr>\n",
       "    <tr>\n",
       "      <th>880</th>\n",
       "      <td>600</td>\n",
       "      <td>47</td>\n",
       "      <td>ไพศาลี</td>\n",
       "      <td>เลขที่ 399/8  หมู่ที่ 5  ตำบลไพศาลี  อำเภอไพศา...</td>\n",
       "      <td>097-2941510</td>\n",
       "    </tr>\n",
       "    <tr>\n",
       "      <th>881</th>\n",
       "      <td>501</td>\n",
       "      <td>5</td>\n",
       "      <td>ไม้ตรา</td>\n",
       "      <td>85/9 หมู่ที่ 7 ตำบลไม้ตรา อำเภอบางไทร จังหวัดพ...</td>\n",
       "      <td>095-5161916</td>\n",
       "    </tr>\n",
       "    <tr>\n",
       "      <th>882</th>\n",
       "      <td>390</td>\n",
       "      <td>11</td>\n",
       "      <td>ไร่วนาสินธ์</td>\n",
       "      <td>19/163  หมู่ที่ 6  ตำบลหนองปรือ  อำเภอบางละมุง...</td>\n",
       "      <td>095-3615136</td>\n",
       "    </tr>\n",
       "    <tr>\n",
       "      <th>883</th>\n",
       "      <td>517</td>\n",
       "      <td>61</td>\n",
       "      <td>ไร่สะท้อน</td>\n",
       "      <td>เลขที่ 202/2  หมู่ที่5  ตำบลไร่สะท้อน  อำเภอบ้...</td>\n",
       "      <td>095-3708687</td>\n",
       "    </tr>\n",
       "    <tr>\n",
       "      <th>884</th>\n",
       "      <td>346</td>\n",
       "      <td>11</td>\n",
       "      <td>ไร่หนึ่ง - หนองขาม</td>\n",
       "      <td>เลขที่ 208/266  หมู่ที่ 11  ตำบลหนองขาม  อำเภอ...</td>\n",
       "      <td>064-1482146</td>\n",
       "    </tr>\n",
       "  </tbody>\n",
       "</table>\n",
       "<p>885 rows × 5 columns</p>\n",
       "</div>"
      ],
      "text/plain": [
       "     code  province                     branch  \\\n",
       "0     790        12                 SCวังตาผิน   \n",
       "1     379        11                 SP บ้านสวน   \n",
       "2     675         1  The rich park พหลโยธิน 59   \n",
       "3     309        12                  กรอกยายชา   \n",
       "4     915        59                กระทุ่มเเบน   \n",
       "..    ...       ...                        ...   \n",
       "880   600        47                     ไพศาลี   \n",
       "881   501         5                     ไม้ตรา   \n",
       "882   390        11                ไร่วนาสินธ์   \n",
       "883   517        61                  ไร่สะท้อน   \n",
       "884   346        11         ไร่หนึ่ง - หนองขาม   \n",
       "\n",
       "                                               address           tel  \n",
       "0    เลขที่ 69/92 หมู่ที่ 4 ตำบลปลวกแดง อำเภอปลวกแด...   061-3847031  \n",
       "1    เลขที่ 99/376 หมู่ที่ 7 ตำบลบ้านสวน อำเภอเมือง...   064-7957735  \n",
       "2    เลขที่ 251/2-6 ถนนพหลโยธิน แขวงอนุสาวรีย์  เขต...   095-8033410  \n",
       "3    เลขที่ 18/8  ถนนกรอกยายชา ตำบลเนินพระ  อำเภอเม...   081-3784872  \n",
       "4    เลขที่ 1527/8 ถนนเศรษฐกิจ 1 ตำบลตลาดกระทุ่มแบน...   061-3860506  \n",
       "..                                                 ...           ...  \n",
       "880  เลขที่ 399/8  หมู่ที่ 5  ตำบลไพศาลี  อำเภอไพศา...   097-2941510  \n",
       "881  85/9 หมู่ที่ 7 ตำบลไม้ตรา อำเภอบางไทร จังหวัดพ...   095-5161916  \n",
       "882  19/163  หมู่ที่ 6  ตำบลหนองปรือ  อำเภอบางละมุง...   095-3615136  \n",
       "883  เลขที่ 202/2  หมู่ที่5  ตำบลไร่สะท้อน  อำเภอบ้...   095-3708687  \n",
       "884  เลขที่ 208/266  หมู่ที่ 11  ตำบลหนองขาม  อำเภอ...   064-1482146  \n",
       "\n",
       "[885 rows x 5 columns]"
      ]
     },
     "execution_count": 103,
     "metadata": {},
     "output_type": "execute_result"
    }
   ],
   "source": [
    "df = pd.read_csv('./cjexpress.csv')\n",
    "df"
   ]
  },
  {
   "cell_type": "code",
   "execution_count": 104,
   "id": "c2e4497c-86c1-47cf-8599-e1e6aef9d0a4",
   "metadata": {},
   "outputs": [
    {
     "data": {
      "text/plain": [
       "{'owner': 'nuraida',\n",
       " 'human_size': '199.12 KB',\n",
       " 'name': 'cjexpress.csv',\n",
       " 'description': 'file cjexpress.csv',\n",
       " 'directory': 90,\n",
       " 'path': 'nuraida/DSI310-15/rawData/cjexpress.csv'}"
      ]
     },
     "execution_count": 104,
     "metadata": {},
     "output_type": "execute_result"
    }
   ],
   "source": [
    "meta, fp = datanode.get_file(datanode.get_file_id(directory_id=dir_raw_id, name='cjexpress.csv')) #get file id with name folder\n",
    "meta #อ่านไฟล์ที่ได้จากการอ่าน data node"
   ]
  },
  {
   "cell_type": "code",
   "execution_count": 105,
   "id": "413e85ef-380a-4c6c-a60f-b442d355dc33",
   "metadata": {},
   "outputs": [
    {
     "name": "stdin",
     "output_type": "stream",
     "text": [
      "File cjexpress.parquet alrady exists, do you want to replace y/n :  y\n"
     ]
    },
    {
     "data": {
      "text/plain": [
       "{'sucess': True,\n",
       " 'file_id': 153,\n",
       " 'path': 'nuraida/DSI310-15/processData/cjexpress.parquet',\n",
       " 'lineage': True}"
      ]
     },
     "execution_count": 105,
     "metadata": {},
     "output_type": "execute_result"
    }
   ],
   "source": [
    "datanode.write(df=df, directory=dir_process_id, name=\"cjexpress\", profiling=True, lineage=[datanode.get_file_id(directory_id=dir_raw_id, name='cjexpress.csv')])"
   ]
  },
  {
   "cell_type": "code",
   "execution_count": null,
   "id": "ad19b3b1-2280-49ae-ab84-c22f1da552dd",
   "metadata": {},
   "outputs": [],
   "source": []
  },
  {
   "cell_type": "code",
   "execution_count": null,
   "id": "70a79d3c-f2a5-4982-a8da-5d033b651924",
   "metadata": {},
   "outputs": [],
   "source": []
  },
  {
   "cell_type": "code",
   "execution_count": null,
   "id": "594ebe7e-5aa9-4054-89a9-9b0a6038377e",
   "metadata": {},
   "outputs": [],
   "source": []
  },
  {
   "cell_type": "code",
   "execution_count": null,
   "id": "444c3078-7e89-420b-908e-13551ccf63db",
   "metadata": {},
   "outputs": [],
   "source": []
  },
  {
   "cell_type": "code",
   "execution_count": null,
   "id": "40272ccf-a9b1-4ce4-a5f2-1dc94e4c4fb1",
   "metadata": {},
   "outputs": [],
   "source": []
  }
 ],
 "metadata": {
  "kernelspec": {
   "display_name": "Python 3 (ipykernel)",
   "language": "python",
   "name": "python3"
  },
  "language_info": {
   "codemirror_mode": {
    "name": "ipython",
    "version": 3
   },
   "file_extension": ".py",
   "mimetype": "text/x-python",
   "name": "python",
   "nbconvert_exporter": "python",
   "pygments_lexer": "ipython3",
   "version": "3.10.5"
  }
 },
 "nbformat": 4,
 "nbformat_minor": 5
}
